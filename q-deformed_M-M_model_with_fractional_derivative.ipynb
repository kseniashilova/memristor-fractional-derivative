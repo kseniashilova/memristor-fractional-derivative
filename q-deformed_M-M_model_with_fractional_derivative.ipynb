{
 "cells": [
  {
   "cell_type": "markdown",
   "metadata": {},
   "source": [
    "### Fractional derivative"
   ]
  },
  {
   "cell_type": "code",
   "execution_count": 1,
   "metadata": {},
   "outputs": [],
   "source": [
    "from __future__ import print_function\n",
    "from ipywidgets import interact, interactive, fixed, interact_manual\n",
    "import ipywidgets as widgets"
   ]
  },
  {
   "cell_type": "code",
   "execution_count": 2,
   "metadata": {},
   "outputs": [],
   "source": [
    "import math\n",
    "from math import exp as exp\n",
    "import numpy as np\n",
    "from pyfod.fod import caputo\n",
    "import matplotlib.pyplot as plt\n",
    "from scipy.integrate import odeint, solve_ivp"
   ]
  },
  {
   "cell_type": "code",
   "execution_count": 3,
   "metadata": {},
   "outputs": [],
   "source": [
    "from pyfod.fod import caputo"
   ]
  },
  {
   "cell_type": "code",
   "execution_count": 10,
   "metadata": {},
   "outputs": [],
   "source": [
    "class memristor_fractional:\n",
    "    u_Voltage=0\n",
    "    u_Hz=0\n",
    "    q=1\n",
    "    gamma1=0\n",
    "    gamma2=0\n",
    "    delta1=0\n",
    "    delta2=0\n",
    "    x_p=0\n",
    "    x_n=0\n",
    "    A_p=0\n",
    "    A_n=0\n",
    "    V_p=0\n",
    "    V_n=0\n",
    "    x_arr=[]\n",
    "    t_arr=[]\n",
    "    u_arr=[]\n",
    "    i_arr=[]\n",
    "    counter=0\n",
    "    x0=2\n",
    "    from_number=0\n",
    "    to_number=1\n",
    "    amount=20\n",
    "    \n",
    "    alpha = 1\n",
    "    x1=0\n",
    "    \n",
    "    \n",
    "    def clean(self):\n",
    "        self.x_arr=[]\n",
    "        self.t_arr=[]\n",
    "        self.u_arr=[]\n",
    "        self.i_arr=[]\n",
    "        self.counter=0\n",
    "        \n",
    "    def set_params(self, u_Voltage, u_Hz, q, gamma1, gamma2, delta1, delta2, x_p, x_n,  A_p, A_n, V_p, V_n, x0, from_number, to_number, amount, alpha):\n",
    "        self.clean()\n",
    "        \n",
    "        \n",
    "        self.u_Voltage=u_Voltage\n",
    "        self.u_Hz = u_Hz\n",
    "        self.q=q\n",
    "        self.gamma1=gamma1\n",
    "        self.gamma2=gamma2\n",
    "        self.delta1=delta1\n",
    "        self.delta2=delta2\n",
    "        self.x_p=x_p\n",
    "        self.x_n=x_n\n",
    "        self.A_p=A_p\n",
    "        self.A_n=A_n\n",
    "        self.V_p=V_p\n",
    "        self.V_n=V_n\n",
    "        \n",
    "        self.x0=x0\n",
    "        self.to_number=to_number\n",
    "        self.from_number=from_number\n",
    "        self.amount=amount\n",
    "        \n",
    "        self.alpha = alpha \n",
    "        # compute\n",
    "        self.compute_state_equation()\n",
    "        self.compute_current_voltage()\n",
    "        \n",
    "\n",
    "    def u(self, t):\n",
    "        return self.u_Voltage*np.sin(2*math.pi*self.u_Hz*t)\n",
    "    \n",
    "    def exp_q(self, xx):\n",
    "        if self.q==1:\n",
    "            return exp(xx)\n",
    "        elif (1+(1-self.q)*xx)>0:\n",
    "            return (1+(1-self.q)*xx)**(1/(1-self.q))\n",
    "        else:\n",
    "            return 0\n",
    "        \n",
    "    def sinh_q(self, xx):\n",
    "        return 0.5*(self.exp_q(xx)-self.exp_q(-1*xx))\n",
    "\n",
    "    # u, x - functions with one single argument t\n",
    "    def i(self, t):\n",
    "        return self.gamma1*self.x(t)*self.sinh_q(self.delta1*self.u(t)) + self.gamma2*(1-self.x(t))*self.sinh_q(self.delta2*self.u(t))\n",
    "    \n",
    "    def w_p(self, x1, t):\n",
    "        return 1+(self.x_p-x1)/(1-self.x_p)\n",
    "    \n",
    "    def w_n(self, x1, t):\n",
    "        return x1/(1-self.x_n)\n",
    "    \n",
    "    # u,x - function with one single argument t\n",
    "    def f(self, x1, t):\n",
    "        if self.u(t) > 0:\n",
    "            if x1>=self.x_p:\n",
    "                #print(1)\n",
    "                return exp(-1*(x1-self.x_p))*self.w_p(x1, t)\n",
    "            else:\n",
    "                #print(2)\n",
    "                return 1\n",
    "        else:\n",
    "            if x1<=(1-self.x_n):\n",
    "                #print(3)\n",
    "                return exp(x1+self.x_n-1)*self.w_n(x1, t)\n",
    "            else:\n",
    "                #print(4)\n",
    "                return 1\n",
    "            \n",
    "    def g(self, t):\n",
    "        if self.u(t) > self.V_p:\n",
    "            return self.A_p * (exp(self.u(t)) - exp(self.V_p))\n",
    "        elif self.u(t)<(-1*self.V_n):\n",
    "            return -1*self.A_n * (exp(-1*self.u(t)) - exp(self.V_n))\n",
    "        else:\n",
    "            return 0\n",
    "    \n",
    "    def func_caputo(self, t):\n",
    "        return self.g(t) * self.f(self.x1, t)\n",
    "    \n",
    "    def dxdt(self, x1, t):\n",
    "        self.x1=x1\n",
    "        res=caputo(f=np.vectorize(self.func_caputo), alpha=1-self.alpha, lower=0, upper=t, quadrature='rs', n=300)['fd']\n",
    "        #print(res, self.func_caputo(t), self.counter)\n",
    "        self.counter = self.counter+1\n",
    "        return res\n",
    "        #return self.func_caputo(t)\n",
    "    \n",
    "    # computations---------------------------------------------------------------------------------------\n",
    "    def compute_state_equation(self):\n",
    "        t_arr = np.linspace(self.from_number, self.to_number, self.amount) # vector of time\n",
    "        self.t_arr=t_arr\n",
    "        x_arr = odeint(self.dxdt, self.x0, t_arr) # solve eq.\n",
    "        x_arr = np.array(x_arr).flatten()\n",
    "        self.x_arr=x_arr\n",
    "        #for t in self.t_arr:\n",
    "            #self.x_arr.append(self.u(t))\n",
    "        \n",
    "    def x(self, t):\n",
    "        ind = list(self.t_arr).index(t)\n",
    "        return self.x_arr[ind]\n",
    "    \n",
    "    def compute_current_voltage(self):\n",
    "        for t in self.t_arr:\n",
    "            self.i_arr.append(self.i(t))\n",
    "            self.u_arr.append(self.u(t))"
   ]
  },
  {
   "cell_type": "code",
   "execution_count": 11,
   "metadata": {
    "scrolled": false
   },
   "outputs": [
    {
     "data": {
      "application/vnd.jupyter.widget-view+json": {
       "model_id": "8462742950684acf91f43b09b3b04df6",
       "version_major": 2,
       "version_minor": 0
      },
      "text/plain": [
       "interactive(children=(FloatSlider(value=6.0, description='u_Voltage', max=18.0, min=-6.0), IntSlider(value=1, …"
      ]
     },
     "metadata": {},
     "output_type": "display_data"
    },
    {
     "data": {
      "text/plain": [
       "<function __main__.current_voltage_plot_fractional(u_Voltage, u_Hz, q, gamma1, gamma2, delta1, delta2, x_p, x_n, A_p, A_n, V_p, V_n, from_number, to_number, amount, alpha, x0, color)>"
      ]
     },
     "execution_count": 11,
     "metadata": {},
     "output_type": "execute_result"
    }
   ],
   "source": [
    "def current_voltage_plot_fractional(u_Voltage, u_Hz, q, gamma1, gamma2, delta1, delta2, x_p, x_n, A_p, A_n, V_p, V_n, from_number, to_number, amount, alpha, x0, color):\n",
    "    print(u_Voltage, u_Hz, q, gamma1, gamma2, delta1, delta2, x_p, x_n,  A_p, A_n, V_p, V_n, x0, from_number, to_number, amount, alpha, color)\n",
    "    memristor1.set_params(u_Voltage, u_Hz, q, gamma1, gamma2, delta1, delta2, x_p, x_n,  A_p, A_n, V_p, V_n, x0, from_number, to_number, amount, alpha)\n",
    "    plt.clf()\n",
    "    plt.plot(memristor1.u_arr, memristor1.i_arr, 'o-', color=color) \n",
    "    plt.title(f'Model with derivative order = {alpha}')\n",
    "    plt.xlabel('Voltage')\n",
    "    plt.ylabel('Current')\n",
    "\n",
    "memristor1=memristor_fractional()\n",
    "interact_manual(current_voltage_plot_fractional, \\\n",
    "         u_Voltage=6.0, u_Hz=1, q=0.726, gamma1=0.227, gamma2=0.001,\\\n",
    "         delta1=1.021, delta2=5.373,\\\n",
    "         x_p=0.21, x_n=0.571,  A_p=0.321, A_n=0.049,\\\n",
    "         V_p=4.543, V_n=0.0,\\\n",
    "         from_number=0.0, to_number=1, amount=(0, 100), alpha=0.95,\\\n",
    "         x0=(0,5,0.1),\\\n",
    "         color=[\"orange\",\"red\",\"yellow\"])"
   ]
  },
  {
   "cell_type": "code",
   "execution_count": 14,
   "metadata": {},
   "outputs": [
    {
     "data": {
      "image/png": "[encoded data removed]",
      "text/plain": [
       "<Figure size 432x288 with 1 Axes>"
      ]
     },
     "metadata": {
      "needs_background": "light"
     },
     "output_type": "display_data"
    }
   ],
   "source": [
    "plt.plot(memristor1.t_arr, memristor1.x_arr, 'o-', color='green') \n",
    "plt.title(f'State function x(t) with derivative order = {memristor1.alpha} and x0={memristor1.x0}')\n",
    "plt.xlabel('Time')\n",
    "plt.ylabel('x(t)')\n",
    "plt.show()"
   ]
  },
  {
   "cell_type": "code",
   "execution_count": 15,
   "metadata": {},
   "outputs": [
    {
     "data": {
      "text/plain": [
       "Text(0.5, 0, 'time, s')"
      ]
     },
     "execution_count": 15,
     "metadata": {},
     "output_type": "execute_result"
    },
    {
     "data": {
      "image/png": "[encoded data removed]",
      "text/plain": [
       "<Figure size 432x288 with 1 Axes>"
      ]
     },
     "metadata": {
      "needs_background": "light"
     },
     "output_type": "display_data"
    }
   ],
   "source": [
    "plt.plot(memristor1.t_arr, memristor1.u_arr, '-o', color='green', label='Voltage')\n",
    "plt.plot(memristor1.t_arr, memristor1.i_arr, '-o', color='yellow', label='Current')\n",
    "plt.title(f'Current and Voltage curves with derivative order = {memristor1.alpha} and x0={memristor1.x0}')\n",
    "plt.legend()\n",
    "plt.ylabel('Voltage,V / Current,A')\n",
    "plt.xlabel('time, s')"
   ]
  },
  {
   "cell_type": "code",
   "execution_count": null,
   "metadata": {},
   "outputs": [],
   "source": []
  }
 ],
 "metadata": {
  "kernelspec": {
   "display_name": "Python 3",
   "language": "python",
   "name": "python3"
  },
  "language_info": {
   "codemirror_mode": {
    "name": "ipython",
    "version": 3
   },
   "file_extension": ".py",
   "mimetype": "text/x-python",
   "name": "python",
   "nbconvert_exporter": "python",
   "pygments_lexer": "ipython3",
   "version": "3.7.3"
  }
 },
 "nbformat": 4,
 "nbformat_minor": 2
}
